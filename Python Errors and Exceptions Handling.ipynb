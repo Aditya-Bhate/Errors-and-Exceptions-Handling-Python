{
 "cells": [
  {
   "cell_type": "code",
   "execution_count": 1,
   "metadata": {},
   "outputs": [],
   "source": [
    "#Errors and Exceptions Handling"
   ]
  },
  {
   "cell_type": "code",
   "execution_count": 2,
   "metadata": {},
   "outputs": [],
   "source": [
    "try:\n",
    "    #Want to attempt this code\n",
    "    #May have an error\n",
    "    result=10 + 10\n",
    "except:\n",
    "    print(\"Hey it looks like you aren't adding correctly !\")"
   ]
  },
  {
   "cell_type": "code",
   "execution_count": 3,
   "metadata": {},
   "outputs": [
    {
     "data": {
      "text/plain": [
       "20"
      ]
     },
     "execution_count": 3,
     "metadata": {},
     "output_type": "execute_result"
    }
   ],
   "source": [
    "result"
   ]
  },
  {
   "cell_type": "code",
   "execution_count": 4,
   "metadata": {},
   "outputs": [
    {
     "name": "stdout",
     "output_type": "stream",
     "text": [
      "Hey it looks like you aren't adding correctly !\n"
     ]
    }
   ],
   "source": [
    "try:\n",
    "    #Want to attempt this code\n",
    "    #May have an error\n",
    "    result=10 + '10'\n",
    "except:\n",
    "    print(\"Hey it looks like you aren't adding correctly !\")"
   ]
  },
  {
   "cell_type": "code",
   "execution_count": 5,
   "metadata": {},
   "outputs": [
    {
     "name": "stdout",
     "output_type": "stream",
     "text": [
      "Add went well !\n",
      "20\n"
     ]
    }
   ],
   "source": [
    "try:\n",
    "    #Want to attempt this code\n",
    "    #May have an error\n",
    "    result=10 + 10\n",
    "except:\n",
    "    print(\"Hey it looks like you aren't adding correctly !\")\n",
    "#else will execute only if there is no error !    \n",
    "else:\n",
    "    print(\"Add went well !\")\n",
    "    print(result)"
   ]
  },
  {
   "cell_type": "code",
   "execution_count": 6,
   "metadata": {},
   "outputs": [
    {
     "name": "stdout",
     "output_type": "stream",
     "text": [
      "There was an OS Error\n",
      "Will always run\n"
     ]
    }
   ],
   "source": [
    "try:\n",
    "    f = open ('testfile','r')   \n",
    "    f.write('Write a test line')\n",
    "except TypeError:\n",
    "    print('There was a type error')\n",
    "except  OSError:\n",
    "    print('There was an OS Error')\n",
    "except:\n",
    "    print('All other exceptions')\n",
    "#Finally will execute no matter what !   \n",
    "finally:\n",
    "    print('Will always run')"
   ]
  },
  {
   "cell_type": "code",
   "execution_count": 7,
   "metadata": {},
   "outputs": [],
   "source": [
    "def ask_for_int():\n",
    "    while True:\n",
    "        try:\n",
    "            result=int(input(\"Please Enter a number: \"))\n",
    "        except:\n",
    "            print(\"Whoops! That's not a number!\")\n",
    "            continue\n",
    "        else:\n",
    "            print(\"Yes,Thankyou!\")\n",
    "            break\n",
    "        finally:\n",
    "            print(\"End of try/except/finally\")"
   ]
  },
  {
   "cell_type": "code",
   "execution_count": 8,
   "metadata": {},
   "outputs": [
    {
     "name": "stdout",
     "output_type": "stream",
     "text": [
      "Please Enter a number: f\n",
      "Whoops! That's not a number!\n",
      "End of try/except/finally\n",
      "Please Enter a number: 1\n",
      "Yes,Thankyou!\n",
      "End of try/except/finally\n"
     ]
    }
   ],
   "source": [
    "ask_for_int()"
   ]
  },
  {
   "cell_type": "code",
   "execution_count": null,
   "metadata": {},
   "outputs": [],
   "source": [
    "#Homework"
   ]
  },
  {
   "cell_type": "code",
   "execution_count": 12,
   "metadata": {},
   "outputs": [
    {
     "name": "stdout",
     "output_type": "stream",
     "text": [
      "Whoops! An error occurred\n"
     ]
    }
   ],
   "source": [
    "#1\n",
    "try:\n",
    "    for i in ['a','b','c']:\n",
    "        print(i**2)\n",
    "except:\n",
    "    print(\"Whoops! An error occurred\")\n",
    "else:\n",
    "    pass\n",
    "finally:\n",
    "    pass"
   ]
  },
  {
   "cell_type": "code",
   "execution_count": 14,
   "metadata": {},
   "outputs": [
    {
     "name": "stdout",
     "output_type": "stream",
     "text": [
      "Division by 0 is not possible!\n",
      "All Done\n"
     ]
    }
   ],
   "source": [
    "#2\n",
    "try:\n",
    "    x = 5\n",
    "    y = 0\n",
    "    z = x/y\n",
    "except:\n",
    "    print(\"Division by 0 is not possible!\")\n",
    "else:\n",
    "    pass\n",
    "finally:\n",
    "    print(\"All Done\")"
   ]
  },
  {
   "cell_type": "code",
   "execution_count": 17,
   "metadata": {},
   "outputs": [],
   "source": [
    "#3\n",
    "def ask():\n",
    "    while True:\n",
    "        try:\n",
    "            result=int(input(\"Input an integer: \"))\n",
    "        except:\n",
    "            print(\"An error occurred! Please try again!\")\n",
    "            continue\n",
    "        else:\n",
    "            print(f\"Thank you, your number squared is: {result**2}\")\n",
    "            break\n",
    "        finally:\n",
    "            pass"
   ]
  },
  {
   "cell_type": "code",
   "execution_count": 18,
   "metadata": {},
   "outputs": [
    {
     "name": "stdout",
     "output_type": "stream",
     "text": [
      "Input an integer: null\n",
      "An error occurred! Please try again!\n",
      "Input an integer: 2\n",
      "Thank you, your number squared is: 4\n"
     ]
    }
   ],
   "source": [
    "ask()"
   ]
  },
  {
   "cell_type": "code",
   "execution_count": null,
   "metadata": {},
   "outputs": [],
   "source": []
  }
 ],
 "metadata": {
  "kernelspec": {
   "display_name": "Python 3",
   "language": "python",
   "name": "python3"
  },
  "language_info": {
   "codemirror_mode": {
    "name": "ipython",
    "version": 3
   },
   "file_extension": ".py",
   "mimetype": "text/x-python",
   "name": "python",
   "nbconvert_exporter": "python",
   "pygments_lexer": "ipython3",
   "version": "3.7.4"
  }
 },
 "nbformat": 4,
 "nbformat_minor": 2
}
